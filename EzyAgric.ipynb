{
 "cells": [
  {
   "cell_type": "code",
   "execution_count": 158,
   "id": "grateful-merchandise",
   "metadata": {},
   "outputs": [],
   "source": [
    "import folium as f\n",
    "import pandas as pd\n",
    "import geopandas as gp\n",
    "from shapely.geometry import Point, Polygon,box\n"
   ]
  },
  {
   "cell_type": "code",
   "execution_count": 194,
   "id": "specialized-kingston",
   "metadata": {},
   "outputs": [],
   "source": [
    "data_points=pd.read_csv('Interview Challenge.csv')"
   ]
  },
  {
   "cell_type": "code",
   "execution_count": 195,
   "id": "particular-perception",
   "metadata": {},
   "outputs": [
    {
     "data": {
      "text/html": [
       "<div>\n",
       "<style scoped>\n",
       "    .dataframe tbody tr th:only-of-type {\n",
       "        vertical-align: middle;\n",
       "    }\n",
       "\n",
       "    .dataframe tbody tr th {\n",
       "        vertical-align: top;\n",
       "    }\n",
       "\n",
       "    .dataframe thead th {\n",
       "        text-align: right;\n",
       "    }\n",
       "</style>\n",
       "<table border=\"1\" class=\"dataframe\">\n",
       "  <thead>\n",
       "    <tr style=\"text-align: right;\">\n",
       "      <th></th>\n",
       "      <th>id</th>\n",
       "      <th>latitudes/0</th>\n",
       "      <th>latitudes/1</th>\n",
       "      <th>latitudes/2</th>\n",
       "      <th>latitudes/3</th>\n",
       "      <th>longitudes/0</th>\n",
       "      <th>longitudes/1</th>\n",
       "      <th>longitudes/2</th>\n",
       "      <th>longitudes/3</th>\n",
       "      <th>latitudes/4</th>\n",
       "      <th>longitudes/4</th>\n",
       "      <th>Unnamed: 11</th>\n",
       "      <th>Unnamed: 12</th>\n",
       "      <th>Unnamed: 13</th>\n",
       "      <th>Unnamed: 14</th>\n",
       "      <th>Unnamed: 15</th>\n",
       "    </tr>\n",
       "  </thead>\n",
       "  <tbody>\n",
       "    <tr>\n",
       "      <th>0</th>\n",
       "      <td>7590cf21d1a446e3b07c92912a4a3c44</td>\n",
       "      <td>2.980511</td>\n",
       "      <td>2.980595</td>\n",
       "      <td>2.980763</td>\n",
       "      <td>2.980530</td>\n",
       "      <td>32.531686</td>\n",
       "      <td>32.531705</td>\n",
       "      <td>32.531327</td>\n",
       "      <td>32.531240</td>\n",
       "      <td>2.980515</td>\n",
       "      <td>32.531657</td>\n",
       "      <td>NaN</td>\n",
       "      <td>NaN</td>\n",
       "      <td>NaN</td>\n",
       "      <td>NaN</td>\n",
       "      <td>NaN</td>\n",
       "    </tr>\n",
       "    <tr>\n",
       "      <th>1</th>\n",
       "      <td>c7b3fde63650440abbaaecec33e30bfa</td>\n",
       "      <td>2.965254</td>\n",
       "      <td>2.965177</td>\n",
       "      <td>2.965122</td>\n",
       "      <td>2.966003</td>\n",
       "      <td>32.249756</td>\n",
       "      <td>32.250017</td>\n",
       "      <td>32.250278</td>\n",
       "      <td>32.250418</td>\n",
       "      <td>2.965983</td>\n",
       "      <td>32.249870</td>\n",
       "      <td>NaN</td>\n",
       "      <td>NaN</td>\n",
       "      <td>NaN</td>\n",
       "      <td>NaN</td>\n",
       "      <td>s</td>\n",
       "    </tr>\n",
       "    <tr>\n",
       "      <th>2</th>\n",
       "      <td>ef2b90b7ff804894a8413477cdfa0e86</td>\n",
       "      <td>2.961134</td>\n",
       "      <td>2.961096</td>\n",
       "      <td>2.961096</td>\n",
       "      <td>2.961162</td>\n",
       "      <td>32.240426</td>\n",
       "      <td>32.240401</td>\n",
       "      <td>32.240401</td>\n",
       "      <td>32.240312</td>\n",
       "      <td>2.960957</td>\n",
       "      <td>32.240535</td>\n",
       "      <td>NaN</td>\n",
       "      <td>NaN</td>\n",
       "      <td>NaN</td>\n",
       "      <td>NaN</td>\n",
       "      <td>NaN</td>\n",
       "    </tr>\n",
       "    <tr>\n",
       "      <th>3</th>\n",
       "      <td>604a8069c5bb4620b7394a7ec5603c18</td>\n",
       "      <td>2.961075</td>\n",
       "      <td>2.961193</td>\n",
       "      <td>2.960932</td>\n",
       "      <td>2.960932</td>\n",
       "      <td>32.240455</td>\n",
       "      <td>32.240537</td>\n",
       "      <td>32.240490</td>\n",
       "      <td>32.240490</td>\n",
       "      <td>2.961053</td>\n",
       "      <td>32.240440</td>\n",
       "      <td>NaN</td>\n",
       "      <td>NaN</td>\n",
       "      <td>NaN</td>\n",
       "      <td>NaN</td>\n",
       "      <td>NaN</td>\n",
       "    </tr>\n",
       "    <tr>\n",
       "      <th>4</th>\n",
       "      <td>9848201f11824ca5a7639aee61152122</td>\n",
       "      <td>2.960971</td>\n",
       "      <td>2.961101</td>\n",
       "      <td>2.961128</td>\n",
       "      <td>2.961035</td>\n",
       "      <td>32.240536</td>\n",
       "      <td>32.240386</td>\n",
       "      <td>32.240551</td>\n",
       "      <td>32.240573</td>\n",
       "      <td>2.960998</td>\n",
       "      <td>32.240462</td>\n",
       "      <td>NaN</td>\n",
       "      <td>NaN</td>\n",
       "      <td>NaN</td>\n",
       "      <td>NaN</td>\n",
       "      <td>NaN</td>\n",
       "    </tr>\n",
       "  </tbody>\n",
       "</table>\n",
       "</div>"
      ],
      "text/plain": [
       "                                 id  latitudes/0  latitudes/1  latitudes/2  \\\n",
       "0  7590cf21d1a446e3b07c92912a4a3c44     2.980511     2.980595     2.980763   \n",
       "1  c7b3fde63650440abbaaecec33e30bfa     2.965254     2.965177     2.965122   \n",
       "2  ef2b90b7ff804894a8413477cdfa0e86     2.961134     2.961096     2.961096   \n",
       "3  604a8069c5bb4620b7394a7ec5603c18     2.961075     2.961193     2.960932   \n",
       "4  9848201f11824ca5a7639aee61152122     2.960971     2.961101     2.961128   \n",
       "\n",
       "   latitudes/3  longitudes/0  longitudes/1  longitudes/2  longitudes/3  \\\n",
       "0     2.980530     32.531686     32.531705     32.531327     32.531240   \n",
       "1     2.966003     32.249756     32.250017     32.250278     32.250418   \n",
       "2     2.961162     32.240426     32.240401     32.240401     32.240312   \n",
       "3     2.960932     32.240455     32.240537     32.240490     32.240490   \n",
       "4     2.961035     32.240536     32.240386     32.240551     32.240573   \n",
       "\n",
       "   latitudes/4  longitudes/4  Unnamed: 11  Unnamed: 12  Unnamed: 13  \\\n",
       "0     2.980515     32.531657          NaN          NaN          NaN   \n",
       "1     2.965983     32.249870          NaN          NaN          NaN   \n",
       "2     2.960957     32.240535          NaN          NaN          NaN   \n",
       "3     2.961053     32.240440          NaN          NaN          NaN   \n",
       "4     2.960998     32.240462          NaN          NaN          NaN   \n",
       "\n",
       "   Unnamed: 14 Unnamed: 15  \n",
       "0          NaN         NaN  \n",
       "1          NaN           s  \n",
       "2          NaN         NaN  \n",
       "3          NaN         NaN  \n",
       "4          NaN         NaN  "
      ]
     },
     "execution_count": 195,
     "metadata": {},
     "output_type": "execute_result"
    }
   ],
   "source": [
    "data_points.head()"
   ]
  },
  {
   "cell_type": "code",
   "execution_count": 196,
   "id": "domestic-candidate",
   "metadata": {},
   "outputs": [
    {
     "data": {
      "text/html": [
       "<div>\n",
       "<style scoped>\n",
       "    .dataframe tbody tr th:only-of-type {\n",
       "        vertical-align: middle;\n",
       "    }\n",
       "\n",
       "    .dataframe tbody tr th {\n",
       "        vertical-align: top;\n",
       "    }\n",
       "\n",
       "    .dataframe thead th {\n",
       "        text-align: right;\n",
       "    }\n",
       "</style>\n",
       "<table border=\"1\" class=\"dataframe\">\n",
       "  <thead>\n",
       "    <tr style=\"text-align: right;\">\n",
       "      <th></th>\n",
       "      <th>Point0</th>\n",
       "      <th>Point1</th>\n",
       "      <th>Point2</th>\n",
       "      <th>Point3</th>\n",
       "      <th>Point4</th>\n",
       "    </tr>\n",
       "  </thead>\n",
       "  <tbody>\n",
       "    <tr>\n",
       "      <th>0</th>\n",
       "      <td>POINT (2.98051 32.53169)</td>\n",
       "      <td>POINT (2.98060 32.53170)</td>\n",
       "      <td>POINT (2.98076 32.53133)</td>\n",
       "      <td>POINT (2.98053 32.53124)</td>\n",
       "      <td>POINT (2.98052 32.53166)</td>\n",
       "    </tr>\n",
       "    <tr>\n",
       "      <th>1</th>\n",
       "      <td>POINT (2.96525 32.24976)</td>\n",
       "      <td>POINT (2.96518 32.25002)</td>\n",
       "      <td>POINT (2.96512 32.25028)</td>\n",
       "      <td>POINT (2.96600 32.25042)</td>\n",
       "      <td>POINT (2.96598 32.24987)</td>\n",
       "    </tr>\n",
       "    <tr>\n",
       "      <th>2</th>\n",
       "      <td>POINT (2.96113 32.24043)</td>\n",
       "      <td>POINT (2.96110 32.24040)</td>\n",
       "      <td>POINT (2.96110 32.24040)</td>\n",
       "      <td>POINT (2.96116 32.24031)</td>\n",
       "      <td>POINT (2.96096 32.24053)</td>\n",
       "    </tr>\n",
       "    <tr>\n",
       "      <th>3</th>\n",
       "      <td>POINT (2.96107 32.24046)</td>\n",
       "      <td>POINT (2.96119 32.24054)</td>\n",
       "      <td>POINT (2.96093 32.24049)</td>\n",
       "      <td>POINT (2.96093 32.24049)</td>\n",
       "      <td>POINT (2.96105 32.24044)</td>\n",
       "    </tr>\n",
       "    <tr>\n",
       "      <th>4</th>\n",
       "      <td>POINT (2.96097 32.24054)</td>\n",
       "      <td>POINT (2.96110 32.24039)</td>\n",
       "      <td>POINT (2.96113 32.24055)</td>\n",
       "      <td>POINT (2.96103 32.24057)</td>\n",
       "      <td>POINT (2.96100 32.24046)</td>\n",
       "    </tr>\n",
       "  </tbody>\n",
       "</table>\n",
       "</div>"
      ],
      "text/plain": [
       "                     Point0                    Point1  \\\n",
       "0  POINT (2.98051 32.53169)  POINT (2.98060 32.53170)   \n",
       "1  POINT (2.96525 32.24976)  POINT (2.96518 32.25002)   \n",
       "2  POINT (2.96113 32.24043)  POINT (2.96110 32.24040)   \n",
       "3  POINT (2.96107 32.24046)  POINT (2.96119 32.24054)   \n",
       "4  POINT (2.96097 32.24054)  POINT (2.96110 32.24039)   \n",
       "\n",
       "                     Point2                    Point3  \\\n",
       "0  POINT (2.98076 32.53133)  POINT (2.98053 32.53124)   \n",
       "1  POINT (2.96512 32.25028)  POINT (2.96600 32.25042)   \n",
       "2  POINT (2.96110 32.24040)  POINT (2.96116 32.24031)   \n",
       "3  POINT (2.96093 32.24049)  POINT (2.96093 32.24049)   \n",
       "4  POINT (2.96113 32.24055)  POINT (2.96103 32.24057)   \n",
       "\n",
       "                     Point4  \n",
       "0  POINT (2.98052 32.53166)  \n",
       "1  POINT (2.96598 32.24987)  \n",
       "2  POINT (2.96096 32.24053)  \n",
       "3  POINT (2.96105 32.24044)  \n",
       "4  POINT (2.96100 32.24046)  "
      ]
     },
     "execution_count": 196,
     "metadata": {},
     "output_type": "execute_result"
    }
   ],
   "source": [
    "# generate (lat,long) points for all sides\n",
    "gdf = gp.GeoDataFrame(data_points, geometry=gp.points_from_xy(data_points[\"latitudes/0\"], data_points[\"longitudes/0\"]))\n",
    "dg0=gdf.rename(columns={'geometry': 'Point0'}).set_geometry('Point0')\n",
    "gdf = gp.GeoDataFrame(data_points, geometry=gp.points_from_xy(data_points[\"latitudes/1\"], data_points[\"longitudes/1\"]))\n",
    "gd1=gdf.rename(columns={'geometry': 'Point1'}).set_geometry('Point1')\n",
    "\n",
    "gdf = gp.GeoDataFrame(data_points, geometry=gp.points_from_xy(data_points[\"latitudes/2\"], data_points[\"longitudes/2\"]))\n",
    "gd2=gdf.rename(columns={'geometry': 'Point2'}).set_geometry('Point2')\n",
    "gdf = gp.GeoDataFrame(data_points, geometry=gp.points_from_xy(data_points[\"latitudes/3\"], data_points[\"longitudes/3\"]))\n",
    "gd3=gdf.rename(columns={'geometry': 'Point3'}).set_geometry('Point3')\n",
    "gdf = gp.GeoDataFrame(data_points, geometry=gp.points_from_xy(data_points[\"latitudes/4\"], data_points[\"longitudes/4\"]))\n",
    "gd4=gdf.rename(columns={'geometry': 'Point4'}).set_geometry('Point4')\n",
    "# data frame\n",
    "\n",
    "data={'Point0':dg0['Point0'],'Point1':gd1['Point1'],'Point2':gd2['Point2'],'Point3':gd3['Point3'],'Point4':gd4['Point4']}\n",
    "df = pd.DataFrame(data, columns= ['Point0', 'Point1','Point2','Point3','Point4'])\n",
    "df"
   ]
  },
  {
   "cell_type": "code",
   "execution_count": 197,
   "id": "mexican-barrel",
   "metadata": {},
   "outputs": [
    {
     "data": {
      "text/html": [
       "<div>\n",
       "<style scoped>\n",
       "    .dataframe tbody tr th:only-of-type {\n",
       "        vertical-align: middle;\n",
       "    }\n",
       "\n",
       "    .dataframe tbody tr th {\n",
       "        vertical-align: top;\n",
       "    }\n",
       "\n",
       "    .dataframe thead th {\n",
       "        text-align: right;\n",
       "    }\n",
       "</style>\n",
       "<table border=\"1\" class=\"dataframe\">\n",
       "  <thead>\n",
       "    <tr style=\"text-align: right;\">\n",
       "      <th></th>\n",
       "      <th>Point0</th>\n",
       "      <th>Point1</th>\n",
       "      <th>Point2</th>\n",
       "      <th>Point3</th>\n",
       "      <th>Point4</th>\n",
       "      <th>ID</th>\n",
       "    </tr>\n",
       "  </thead>\n",
       "  <tbody>\n",
       "    <tr>\n",
       "      <th>0</th>\n",
       "      <td>POINT (2.98051 32.53169)</td>\n",
       "      <td>POINT (2.98060 32.53170)</td>\n",
       "      <td>POINT (2.98076 32.53133)</td>\n",
       "      <td>POINT (2.98053 32.53124)</td>\n",
       "      <td>POINT (2.98052 32.53166)</td>\n",
       "      <td>7590cf21d1a446e3b07c92912a4a3c44</td>\n",
       "    </tr>\n",
       "    <tr>\n",
       "      <th>1</th>\n",
       "      <td>POINT (2.96525 32.24976)</td>\n",
       "      <td>POINT (2.96518 32.25002)</td>\n",
       "      <td>POINT (2.96512 32.25028)</td>\n",
       "      <td>POINT (2.96600 32.25042)</td>\n",
       "      <td>POINT (2.96598 32.24987)</td>\n",
       "      <td>c7b3fde63650440abbaaecec33e30bfa</td>\n",
       "    </tr>\n",
       "    <tr>\n",
       "      <th>2</th>\n",
       "      <td>POINT (2.96113 32.24043)</td>\n",
       "      <td>POINT (2.96110 32.24040)</td>\n",
       "      <td>POINT (2.96110 32.24040)</td>\n",
       "      <td>POINT (2.96116 32.24031)</td>\n",
       "      <td>POINT (2.96096 32.24053)</td>\n",
       "      <td>ef2b90b7ff804894a8413477cdfa0e86</td>\n",
       "    </tr>\n",
       "    <tr>\n",
       "      <th>3</th>\n",
       "      <td>POINT (2.96107 32.24046)</td>\n",
       "      <td>POINT (2.96119 32.24054)</td>\n",
       "      <td>POINT (2.96093 32.24049)</td>\n",
       "      <td>POINT (2.96093 32.24049)</td>\n",
       "      <td>POINT (2.96105 32.24044)</td>\n",
       "      <td>604a8069c5bb4620b7394a7ec5603c18</td>\n",
       "    </tr>\n",
       "    <tr>\n",
       "      <th>4</th>\n",
       "      <td>POINT (2.96097 32.24054)</td>\n",
       "      <td>POINT (2.96110 32.24039)</td>\n",
       "      <td>POINT (2.96113 32.24055)</td>\n",
       "      <td>POINT (2.96103 32.24057)</td>\n",
       "      <td>POINT (2.96100 32.24046)</td>\n",
       "      <td>9848201f11824ca5a7639aee61152122</td>\n",
       "    </tr>\n",
       "  </tbody>\n",
       "</table>\n",
       "</div>"
      ],
      "text/plain": [
       "                     Point0                    Point1  \\\n",
       "0  POINT (2.98051 32.53169)  POINT (2.98060 32.53170)   \n",
       "1  POINT (2.96525 32.24976)  POINT (2.96518 32.25002)   \n",
       "2  POINT (2.96113 32.24043)  POINT (2.96110 32.24040)   \n",
       "3  POINT (2.96107 32.24046)  POINT (2.96119 32.24054)   \n",
       "4  POINT (2.96097 32.24054)  POINT (2.96110 32.24039)   \n",
       "\n",
       "                     Point2                    Point3  \\\n",
       "0  POINT (2.98076 32.53133)  POINT (2.98053 32.53124)   \n",
       "1  POINT (2.96512 32.25028)  POINT (2.96600 32.25042)   \n",
       "2  POINT (2.96110 32.24040)  POINT (2.96116 32.24031)   \n",
       "3  POINT (2.96093 32.24049)  POINT (2.96093 32.24049)   \n",
       "4  POINT (2.96113 32.24055)  POINT (2.96103 32.24057)   \n",
       "\n",
       "                     Point4                                ID  \n",
       "0  POINT (2.98052 32.53166)  7590cf21d1a446e3b07c92912a4a3c44  \n",
       "1  POINT (2.96598 32.24987)  c7b3fde63650440abbaaecec33e30bfa  \n",
       "2  POINT (2.96096 32.24053)  ef2b90b7ff804894a8413477cdfa0e86  \n",
       "3  POINT (2.96105 32.24044)  604a8069c5bb4620b7394a7ec5603c18  \n",
       "4  POINT (2.96100 32.24046)  9848201f11824ca5a7639aee61152122  "
      ]
     },
     "execution_count": 197,
     "metadata": {},
     "output_type": "execute_result"
    }
   ],
   "source": [
    "df['ID']=data_points['id']\n",
    "df"
   ]
  },
  {
   "cell_type": "code",
   "execution_count": 198,
   "id": "deluxe-bandwidth",
   "metadata": {},
   "outputs": [
    {
     "data": {
      "text/html": [
       "<div>\n",
       "<style scoped>\n",
       "    .dataframe tbody tr th:only-of-type {\n",
       "        vertical-align: middle;\n",
       "    }\n",
       "\n",
       "    .dataframe tbody tr th {\n",
       "        vertical-align: top;\n",
       "    }\n",
       "\n",
       "    .dataframe thead th {\n",
       "        text-align: right;\n",
       "    }\n",
       "</style>\n",
       "<table border=\"1\" class=\"dataframe\">\n",
       "  <thead>\n",
       "    <tr style=\"text-align: right;\">\n",
       "      <th></th>\n",
       "      <th>Point0</th>\n",
       "      <th>Point1</th>\n",
       "      <th>Point2</th>\n",
       "      <th>Point3</th>\n",
       "      <th>Point4</th>\n",
       "      <th>ID</th>\n",
       "      <th>p0</th>\n",
       "      <th>p1</th>\n",
       "      <th>p2</th>\n",
       "      <th>p3</th>\n",
       "      <th>p4</th>\n",
       "    </tr>\n",
       "  </thead>\n",
       "  <tbody>\n",
       "    <tr>\n",
       "      <th>0</th>\n",
       "      <td>POINT (2.98051 32.53169)</td>\n",
       "      <td>POINT (2.98060 32.53170)</td>\n",
       "      <td>POINT (2.98076 32.53133)</td>\n",
       "      <td>POINT (2.98053 32.53124)</td>\n",
       "      <td>POINT (2.98052 32.53166)</td>\n",
       "      <td>7590cf21d1a446e3b07c92912a4a3c44</td>\n",
       "      <td>(2.980511294, 32.53168606)</td>\n",
       "      <td>(2.9805953069999904, 32.53170496)</td>\n",
       "      <td>(2.980763216, 32.5313268999999)</td>\n",
       "      <td>(2.980530115, 32.53124042)</td>\n",
       "      <td>(2.980515048, 32.53165663)</td>\n",
       "    </tr>\n",
       "    <tr>\n",
       "      <th>1</th>\n",
       "      <td>POINT (2.96525 32.24976)</td>\n",
       "      <td>POINT (2.96518 32.25002)</td>\n",
       "      <td>POINT (2.96512 32.25028)</td>\n",
       "      <td>POINT (2.96600 32.25042)</td>\n",
       "      <td>POINT (2.96598 32.24987)</td>\n",
       "      <td>c7b3fde63650440abbaaecec33e30bfa</td>\n",
       "      <td>(2.965254116, 32.24975581)</td>\n",
       "      <td>(2.965177167, 32.25001674)</td>\n",
       "      <td>(2.9651219269999904, 32.25027776)</td>\n",
       "      <td>(2.9660027189999902, 32.25041817)</td>\n",
       "      <td>(2.965982687, 32.24986992)</td>\n",
       "    </tr>\n",
       "    <tr>\n",
       "      <th>2</th>\n",
       "      <td>POINT (2.96113 32.24043)</td>\n",
       "      <td>POINT (2.96110 32.24040)</td>\n",
       "      <td>POINT (2.96110 32.24040)</td>\n",
       "      <td>POINT (2.96116 32.24031)</td>\n",
       "      <td>POINT (2.96096 32.24053)</td>\n",
       "      <td>ef2b90b7ff804894a8413477cdfa0e86</td>\n",
       "      <td>(2.961133892, 32.24042584)</td>\n",
       "      <td>(2.961096313, 32.24040081)</td>\n",
       "      <td>(2.961096313, 32.24040081)</td>\n",
       "      <td>(2.961162303, 32.24031172)</td>\n",
       "      <td>(2.9609566380000003, 32.24053492)</td>\n",
       "    </tr>\n",
       "    <tr>\n",
       "      <th>3</th>\n",
       "      <td>POINT (2.96107 32.24046)</td>\n",
       "      <td>POINT (2.96119 32.24054)</td>\n",
       "      <td>POINT (2.96093 32.24049)</td>\n",
       "      <td>POINT (2.96093 32.24049)</td>\n",
       "      <td>POINT (2.96105 32.24044)</td>\n",
       "      <td>604a8069c5bb4620b7394a7ec5603c18</td>\n",
       "      <td>(2.961074677, 32.24045514)</td>\n",
       "      <td>(2.961193065, 32.24053653)</td>\n",
       "      <td>(2.960931713, 32.24049046)</td>\n",
       "      <td>(2.960931713, 32.24049046)</td>\n",
       "      <td>(2.961052613, 32.24043991)</td>\n",
       "    </tr>\n",
       "    <tr>\n",
       "      <th>4</th>\n",
       "      <td>POINT (2.96097 32.24054)</td>\n",
       "      <td>POINT (2.96110 32.24039)</td>\n",
       "      <td>POINT (2.96113 32.24055)</td>\n",
       "      <td>POINT (2.96103 32.24057)</td>\n",
       "      <td>POINT (2.96100 32.24046)</td>\n",
       "      <td>9848201f11824ca5a7639aee61152122</td>\n",
       "      <td>(2.9609713419999903, 32.24053609)</td>\n",
       "      <td>(2.961101358, 32.24038613)</td>\n",
       "      <td>(2.961127715, 32.24055117)</td>\n",
       "      <td>(2.961034961, 32.24057251)</td>\n",
       "      <td>(2.9609978139999904, 32.24046197)</td>\n",
       "    </tr>\n",
       "  </tbody>\n",
       "</table>\n",
       "</div>"
      ],
      "text/plain": [
       "                     Point0                    Point1  \\\n",
       "0  POINT (2.98051 32.53169)  POINT (2.98060 32.53170)   \n",
       "1  POINT (2.96525 32.24976)  POINT (2.96518 32.25002)   \n",
       "2  POINT (2.96113 32.24043)  POINT (2.96110 32.24040)   \n",
       "3  POINT (2.96107 32.24046)  POINT (2.96119 32.24054)   \n",
       "4  POINT (2.96097 32.24054)  POINT (2.96110 32.24039)   \n",
       "\n",
       "                     Point2                    Point3  \\\n",
       "0  POINT (2.98076 32.53133)  POINT (2.98053 32.53124)   \n",
       "1  POINT (2.96512 32.25028)  POINT (2.96600 32.25042)   \n",
       "2  POINT (2.96110 32.24040)  POINT (2.96116 32.24031)   \n",
       "3  POINT (2.96093 32.24049)  POINT (2.96093 32.24049)   \n",
       "4  POINT (2.96113 32.24055)  POINT (2.96103 32.24057)   \n",
       "\n",
       "                     Point4                                ID  \\\n",
       "0  POINT (2.98052 32.53166)  7590cf21d1a446e3b07c92912a4a3c44   \n",
       "1  POINT (2.96598 32.24987)  c7b3fde63650440abbaaecec33e30bfa   \n",
       "2  POINT (2.96096 32.24053)  ef2b90b7ff804894a8413477cdfa0e86   \n",
       "3  POINT (2.96105 32.24044)  604a8069c5bb4620b7394a7ec5603c18   \n",
       "4  POINT (2.96100 32.24046)  9848201f11824ca5a7639aee61152122   \n",
       "\n",
       "                                  p0                                 p1  \\\n",
       "0         (2.980511294, 32.53168606)  (2.9805953069999904, 32.53170496)   \n",
       "1         (2.965254116, 32.24975581)         (2.965177167, 32.25001674)   \n",
       "2         (2.961133892, 32.24042584)         (2.961096313, 32.24040081)   \n",
       "3         (2.961074677, 32.24045514)         (2.961193065, 32.24053653)   \n",
       "4  (2.9609713419999903, 32.24053609)         (2.961101358, 32.24038613)   \n",
       "\n",
       "                                  p2                                 p3  \\\n",
       "0    (2.980763216, 32.5313268999999)         (2.980530115, 32.53124042)   \n",
       "1  (2.9651219269999904, 32.25027776)  (2.9660027189999902, 32.25041817)   \n",
       "2         (2.961096313, 32.24040081)         (2.961162303, 32.24031172)   \n",
       "3         (2.960931713, 32.24049046)         (2.960931713, 32.24049046)   \n",
       "4         (2.961127715, 32.24055117)         (2.961034961, 32.24057251)   \n",
       "\n",
       "                                  p4  \n",
       "0         (2.980515048, 32.53165663)  \n",
       "1         (2.965982687, 32.24986992)  \n",
       "2  (2.9609566380000003, 32.24053492)  \n",
       "3         (2.961052613, 32.24043991)  \n",
       "4  (2.9609978139999904, 32.24046197)  "
      ]
     },
     "execution_count": 198,
     "metadata": {},
     "output_type": "execute_result"
    }
   ],
   "source": [
    "df['p0'] = df['Point0'].apply(lambda x: x.coords[0])\n",
    "df['p1'] = df['Point1'].apply(lambda x: x.coords[0])\n",
    "df['p2'] = df['Point2'].apply(lambda x: x.coords[0])\n",
    "df['p3'] = df['Point3'].apply(lambda x: x.coords[0])\n",
    "df['p4'] = df['Point4'].apply(lambda x: x.coords[0])\n",
    "df"
   ]
  },
  {
   "cell_type": "code",
   "execution_count": 199,
   "id": "aquatic-oasis",
   "metadata": {},
   "outputs": [],
   "source": [
    "df =df.drop(['Point0', 'Point1','Point2','Point3','Point4'], axis=1)\n",
    "# df.reset_index()  \n"
   ]
  },
  {
   "cell_type": "code",
   "execution_count": 200,
   "id": "sublime-yield",
   "metadata": {},
   "outputs": [
    {
     "data": {
      "text/plain": [
       "pandas.core.frame.DataFrame"
      ]
     },
     "execution_count": 200,
     "metadata": {},
     "output_type": "execute_result"
    }
   ],
   "source": [
    "df=df.transpose()\n",
    "new_header = df.iloc[0] #grab the first row for the header\n",
    "df = df[1:] #take the data less the header row\n",
    "df.columns = new_header #\n",
    "type(df)"
   ]
  },
  {
   "cell_type": "code",
   "execution_count": 211,
   "id": "satisfied-jimmy",
   "metadata": {},
   "outputs": [],
   "source": [
    "for coord in df['7590cf21d1a446e3b07c92912a4a3c44']:\n",
    "    f.Marker( location=[ coord[0], coord[1] ], fill_color='#43d9de', radius=8 ).add_to( mapit )"
   ]
  },
  {
   "cell_type": "code",
   "execution_count": 212,
   "id": "robust-failure",
   "metadata": {},
   "outputs": [
    {
     "data": {
      "text/html": [
       "<div style=\"width:100%;\"><div style=\"position:relative;width:100%;height:0;padding-bottom:60%;\"><span style=\"color:#565656\">Make this Notebook Trusted to load map: File -> Trust Notebook</span><iframe src=\"about:blank\" style=\"position:absolute;width:100%;height:100%;left:0;top:0;border:none !important;\" data-html=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 onload=\"this.contentDocument.open();this.contentDocument.write(atob(this.getAttribute('data-html')));this.contentDocument.close();\" allowfullscreen webkitallowfullscreen mozallowfullscreen></iframe></div></div>"
      ],
      "text/plain": [
       "<folium.folium.Map at 0x7fab3dc7a4a8>"
      ]
     },
     "execution_count": 212,
     "metadata": {},
     "output_type": "execute_result"
    }
   ],
   "source": [
    "mapit"
   ]
  },
  {
   "cell_type": "code",
   "execution_count": 213,
   "id": "center-movie",
   "metadata": {},
   "outputs": [
    {
     "data": {
      "text/html": [
       "<div style=\"width:100%;\"><div style=\"position:relative;width:100%;height:0;padding-bottom:60%;\"><span style=\"color:#565656\">Make this Notebook Trusted to load map: File -> Trust Notebook</span><iframe src=\"about:blank\" style=\"position:absolute;width:100%;height:100%;left:0;top:0;border:none !important;\" data-html=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 onload=\"this.contentDocument.open();this.contentDocument.write(atob(this.getAttribute('data-html')));this.contentDocument.close();\" allowfullscreen webkitallowfullscreen mozallowfullscreen></iframe></div></div>"
      ],
      "text/plain": [
       "<folium.folium.Map at 0x7fab3dc7a4a8>"
      ]
     },
     "execution_count": 213,
     "metadata": {},
     "output_type": "execute_result"
    }
   ],
   "source": [
    "for coord in df['c7b3fde63650440abbaaecec33e30bfa']:\n",
    "    f.Marker( location=[ coord[0], coord[1] ], fill_color='#43d9de', radius=8 ).add_to( mapit )\n",
    "mapit"
   ]
  },
  {
   "cell_type": "code",
   "execution_count": 214,
   "id": "guilty-discount",
   "metadata": {},
   "outputs": [
    {
     "data": {
      "text/html": [
       "<div style=\"width:100%;\"><div style=\"position:relative;width:100%;height:0;padding-bottom:60%;\"><span style=\"color:#565656\">Make this Notebook Trusted to load map: File -> Trust Notebook</span><iframe src=\"about:blank\" style=\"position:absolute;width:100%;height:100%;left:0;top:0;border:none !important;\" data-html=PCFET0NUWVBFIGh0bWw+CjxoZWFkPiAgICAKICAgIDxtZXRhIGh0dHAtZXF1aXY9ImNvbnRlbnQtdHlwZSIgY29udGVudD0idGV4dC9odG1sOyBjaGFyc2V0PVVURi04IiAvPgogICAgCiAgICAgICAgPHNjcmlwdD4KICAgICAgICAgICAgTF9OT19UT1VDSCA9IGZhbHNlOwogICAgICAgICAgICBMX0RJU0FCTEVfM0QgPSBmYWxzZTsKICAgICAgICA8L3NjcmlwdD4KICAgIAogICAgPHNjcmlwdCBzcmM9Imh0dHBzOi8vY2RuLmpzZGVsaXZyLm5ldC9ucG0vbGVhZmxldEAxLjYuMC9kaXN0L2xlYWZsZXQuanMiPjwvc2NyaXB0PgogICAgPHNjcmlwdCBzcmM9Imh0dHBzOi8vY29kZS5qcXVlcnkuY29tL2pxdWVyeS0xLjEyLjQubWluLmpzIj48L3NjcmlwdD4KICAgIDxzY3JpcHQgc3JjPSJodHRwczovL21heGNkbi5ib290c3RyYXBjZG4uY29tL2Jvb3RzdHJhcC8zLjIuMC9qcy9ib290c3RyYXAubWluLmpzIj48L3NjcmlwdD4KICAgIDxzY3JpcHQgc3JjPSJodHRwczovL2NkbmpzLmNsb3VkZmxhcmUuY29tL2FqYXgvbGlicy9MZWFmbGV0LmF3ZXNvbWUtbWFya2Vycy8yLjAuMi9sZWFmbGV0LmF3ZXNvbWUtbWFya2Vycy5qcyI+PC9zY3JpcHQ+CiAgICA8bGluayByZWw9InN0eWxlc2hlZXQiIGhyZWY9Imh0dHBzOi8vY2RuLmpzZGVsaXZyLm5ldC9ucG0vbGVhZmxldEAxLjYuMC9kaXN0L2xlYWZsZXQuY3NzIi8+CiAgICA8bGluayByZWw9InN0eWxlc2hlZXQiIGhyZWY9Imh0dHBzOi8vbWF4Y2RuLmJvb3RzdHJhcGNkbi5jb20vYm9vdHN0cmFwLzMuMi4wL2Nzcy9ib290c3RyYXAubWluLmNzcyIvPgogICAgPGxpbmsgcmVsPSJzdHlsZXNoZWV0IiBocmVmPSJodHRwczovL21heGNkbi5ib290c3RyYXBjZG4uY29tL2Jvb3RzdHJhcC8zLjIuMC9jc3MvYm9vdHN0cmFwLXRoZW1lLm1pbi5jc3MiLz4KICAgIDxsaW5rIHJlbD0ic3R5bGVzaGVldCIgaHJlZj0iaHR0cHM6Ly9tYXhjZG4uYm9vdHN0cmFwY2RuLmNvbS9mb250LWF3ZXNvbWUvNC42LjMvY3NzL2ZvbnQtYXdlc29tZS5taW4uY3NzIi8+CiAgICA8bGluayByZWw9InN0eWxlc2hlZXQiIGhyZWY9Imh0dHBzOi8vY2RuanMuY2xvdWRmbGFyZS5jb20vYWpheC9saWJzL0xlYWZsZXQuYXdlc29tZS1tYXJrZXJzLzIuMC4yL2xlYWZsZXQuYXdlc29tZS1tYXJrZXJzLmNzcyIvPgogICAgPGxpbmsgcmVsPSJzdHlsZXNoZWV0IiBocmVmPSJodHRwczovL3Jhd2Nkbi5naXRoYWNrLmNvbS9weXRob24tdmlzdWFsaXphdGlvbi9mb2xpdW0vbWFzdGVyL2ZvbGl1bS90ZW1wbGF0ZXMvbGVhZmxldC5hd2Vzb21lLnJvdGF0ZS5jc3MiLz4KICAgIDxzdHlsZT5odG1sLCBib2R5IHt3aWR0aDogMTAwJTtoZWlnaHQ6IDEwMCU7bWFyZ2luOiAwO3BhZGRpbmc6IDA7fTwvc3R5bGU+CiAgICA8c3R5bGU+I21hcCB7cG9zaXRpb246YWJzb2x1dGU7dG9wOjA7Ym90dG9tOjA7cmlnaHQ6MDtsZWZ0OjA7fTwvc3R5bGU+CiAgICAKICAgICAgICAgICAgPG1ldGEgbmFtZT0idmlld3BvcnQiIGNvbnRlbnQ9IndpZHRoPWRldmljZS13aWR0aCwKICAgICAgICAgICAgICAgIGluaXRpYWwtc2NhbGU9MS4wLCBtYXhpbXVtLXNjYWxlPTEuMCwgdXNlci1zY2FsYWJsZT1ubyIgLz4KICAgICAgICAgICAgPHN0eWxlPgogICAgICAgICAgICAgICAgI21hcF84OWQyNTBmZjBjYTc0MmYzOTY2ZGVmZWVlMTI5NGI4NyB7CiAgICAgICAgICAgICAgICAgICAgcG9zaXRpb246IHJlbGF0aXZlOwogICAgICAgICAgICAgICAgICAgIHdpZHRoOiAxMDAuMCU7CiAgICAgICAgICAgICAgICAgICAgaGVpZ2h0OiAxMDAuMCU7CiAgICAgICAgICAgICAgICAgICAgbGVmdDogMC4wJTsKICAgICAgICAgICAgICAgICAgICB0b3A6IDAuMCU7CiAgICAgICAgICAgICAgICB9CiAgICAgICAgICAgIDwvc3R5bGU+CiAgICAgICAgCjwvaGVhZD4KPGJvZHk+ICAgIAogICAgCiAgICAgICAgICAgIDxkaXYgY2xhc3M9ImZvbGl1bS1tYXAiIGlkPSJtYXBfODlkMjUwZmYwY2E3NDJmMzk2NmRlZmVlZTEyOTRiODciID48L2Rpdj4KICAgICAgICAKPC9ib2R5Pgo8c2NyaXB0PiAgICAKICAgIAogICAgICAgICAgICB2YXIgbWFwXzg5ZDI1MGZmMGNhNzQyZjM5NjZkZWZlZWUxMjk0Yjg3ID0gTC5tYXAoCiAgICAgICAgICAgICAgICAibWFwXzg5ZDI1MGZmMGNhNzQyZjM5NjZkZWZlZWUxMjk0Yjg3IiwKICAgICAgICAgICAgICAgIHsKICAgICAgICAgICAgICAgICAgICBjZW50ZXI6IFsyLjk2NTk4MjY4NywgMzIuMjQ5ODY5OTJdLAogICAgICAgICAgICAgICAgICAgIGNyczogTC5DUlMuRVBTRzM4NTcsCiAgICAgICAgICAgICAgICAgICAgem9vbTogMTAsCiAgICAgICAgICAgICAgICAgICAgem9vbUNvbnRyb2w6IHRydWUsCiAgICAgICAgICAgICAgICAgICAgcHJlZmVyQ2FudmFzOiBmYWxzZSwKICAgICAgICAgICAgICAgIH0KICAgICAgICAgICAgKTsKCiAgICAgICAgICAgIAoKICAgICAgICAKICAgIAogICAgICAgICAgICB2YXIgdGlsZV9sYXllcl83YjFiZGQxYjAwYzc0MjRkYjg4MGY1YTNhNzM0MTRhZCA9IEwudGlsZUxheWVyKAogICAgICAgICAgICAgICAgImh0dHBzOi8ve3N9LnRpbGUub3BlbnN0cmVldG1hcC5vcmcve3p9L3t4fS97eX0ucG5nIiwKICAgICAgICAgICAgICAgIHsiYXR0cmlidXRpb24iOiAiRGF0YSBieSBcdTAwMjZjb3B5OyBcdTAwM2NhIGhyZWY9XCJodHRwOi8vb3BlbnN0cmVldG1hcC5vcmdcIlx1MDAzZU9wZW5TdHJlZXRNYXBcdTAwM2MvYVx1MDAzZSwgdW5kZXIgXHUwMDNjYSBocmVmPVwiaHR0cDovL3d3dy5vcGVuc3RyZWV0bWFwLm9yZy9jb3B5cmlnaHRcIlx1MDAzZU9EYkxcdTAwM2MvYVx1MDAzZS4iLCAiZGV0ZWN0UmV0aW5hIjogZmFsc2UsICJtYXhOYXRpdmVab29tIjogMTgsICJtYXhab29tIjogMTgsICJtaW5ab29tIjogMCwgIm5vV3JhcCI6IGZhbHNlLCAib3BhY2l0eSI6IDEsICJzdWJkb21haW5zIjogImFiYyIsICJ0bXMiOiBmYWxzZX0KICAgICAgICAgICAgKS5hZGRUbyhtYXBfODlkMjUwZmYwY2E3NDJmMzk2NmRlZmVlZTEyOTRiODcpOwogICAgICAgIAogICAgCiAgICAgICAgICAgIHZhciBtYXJrZXJfODEwOTVlYjkwYWE2NDFhMThlYjYyODQ5MzU5NTY4NDMgPSBMLm1hcmtlcigKICAgICAgICAgICAgICAgIFsyLjk4MDUxMTI5NCwgMzIuNTMxNjg2MDZdLAogICAgICAgICAgICAgICAgeyJmaWxsQ29sb3IiOiAiIzQzZDlkZSIsICJyYWRpdXMiOiA4fQogICAgICAgICAgICApLmFkZFRvKG1hcF84OWQyNTBmZjBjYTc0MmYzOTY2ZGVmZWVlMTI5NGI4Nyk7CiAgICAgICAgCiAgICAKICAgICAgICAgICAgdmFyIG1hcmtlcl8wZmQ1NWY5OGUyZmU0MjFlYjkxZjJjMDUwNjgzYjJkNiA9IEwubWFya2VyKAogICAgICAgICAgICAgICAgWzIuOTgwNTk1MzA2OTk5OTkwNCwgMzIuNTMxNzA0OTZdLAogICAgICAgICAgICAgICAgeyJmaWxsQ29sb3IiOiAiIzQzZDlkZSIsICJyYWRpdXMiOiA4fQogICAgICAgICAgICApLmFkZFRvKG1hcF84OWQyNTBmZjBjYTc0MmYzOTY2ZGVmZWVlMTI5NGI4Nyk7CiAgICAgICAgCiAgICAKICAgICAgICAgICAgdmFyIG1hcmtlcl9mZDZlNmU1ZTA0ZjA0ZjY2YTJhODYzYzEzZjY3ZmFlZSA9IEwubWFya2VyKAogICAgICAgICAgICAgICAgWzIuOTgwNzYzMjE2LCAzMi41MzEzMjY4OTk5OTk5XSwKICAgICAgICAgICAgICAgIHsiZmlsbENvbG9yIjogIiM0M2Q5ZGUiLCAicmFkaXVzIjogOH0KICAgICAgICAgICAgKS5hZGRUbyhtYXBfODlkMjUwZmYwY2E3NDJmMzk2NmRlZmVlZTEyOTRiODcpOwogICAgICAgIAogICAgCiAgICAgICAgICAgIHZhciBtYXJrZXJfMjk5MmY0Y2VhN2Y5NGZmZWE0ODZkZTZjZGM0MmI3MmEgPSBMLm1hcmtlcigKICAgICAgICAgICAgICAgIFsyLjk4MDUzMDExNSwgMzIuNTMxMjQwNDJdLAogICAgICAgICAgICAgICAgeyJmaWxsQ29sb3IiOiAiIzQzZDlkZSIsICJyYWRpdXMiOiA4fQogICAgICAgICAgICApLmFkZFRvKG1hcF84OWQyNTBmZjBjYTc0MmYzOTY2ZGVmZWVlMTI5NGI4Nyk7CiAgICAgICAgCiAgICAKICAgICAgICAgICAgdmFyIG1hcmtlcl9iMjg5YzMwZTdjNTg0MjUxYWZjZDA4ODM2YWU0ZTAxNiA9IEwubWFya2VyKAogICAgICAgICAgICAgICAgWzIuOTgwNTE1MDQ4LCAzMi41MzE2NTY2M10sCiAgICAgICAgICAgICAgICB7ImZpbGxDb2xvciI6ICIjNDNkOWRlIiwgInJhZGl1cyI6IDh9CiAgICAgICAgICAgICkuYWRkVG8obWFwXzg5ZDI1MGZmMGNhNzQyZjM5NjZkZWZlZWUxMjk0Yjg3KTsKICAgICAgICAKICAgIAogICAgICAgICAgICB2YXIgbWFya2VyXzkzMjcyYjkwYThmNjQ1YmFhMjYxM2IzYmI0YWNiZTQ3ID0gTC5tYXJrZXIoCiAgICAgICAgICAgICAgICBbMi45NjUyNTQxMTYsIDMyLjI0OTc1NTgxXSwKICAgICAgICAgICAgICAgIHsiZmlsbENvbG9yIjogIiM0M2Q5ZGUiLCAicmFkaXVzIjogOH0KICAgICAgICAgICAgKS5hZGRUbyhtYXBfODlkMjUwZmYwY2E3NDJmMzk2NmRlZmVlZTEyOTRiODcpOwogICAgICAgIAogICAgCiAgICAgICAgICAgIHZhciBtYXJrZXJfOWYxYzFiN2IzYmMyNGIyZmE1NTlkMjc0NzU3YWRmYTYgPSBMLm1hcmtlcigKICAgICAgICAgICAgICAgIFsyLjk2NTE3NzE2NywgMzIuMjUwMDE2NzRdLAogICAgICAgICAgICAgICAgeyJmaWxsQ29sb3IiOiAiIzQzZDlkZSIsICJyYWRpdXMiOiA4fQogICAgICAgICAgICApLmFkZFRvKG1hcF84OWQyNTBmZjBjYTc0MmYzOTY2ZGVmZWVlMTI5NGI4Nyk7CiAgICAgICAgCiAgICAKICAgICAgICAgICAgdmFyIG1hcmtlcl9hM2IwYTdjN2E5ZTU0NDgzYTRmNGFiYjY4ZGIyMjI1NyA9IEwubWFya2VyKAogICAgICAgICAgICAgICAgWzIuOTY1MTIxOTI2OTk5OTkwNCwgMzIuMjUwMjc3NzZdLAogICAgICAgICAgICAgICAgeyJmaWxsQ29sb3IiOiAiIzQzZDlkZSIsICJyYWRpdXMiOiA4fQogICAgICAgICAgICApLmFkZFRvKG1hcF84OWQyNTBmZjBjYTc0MmYzOTY2ZGVmZWVlMTI5NGI4Nyk7CiAgICAgICAgCiAgICAKICAgICAgICAgICAgdmFyIG1hcmtlcl9iMGE4ZmQ3ZmMxMzY0YTc1ODhjYTU2MmM3Y2E4OTMwNiA9IEwubWFya2VyKAogICAgICAgICAgICAgICAgWzIuOTY2MDAyNzE4OTk5OTkwMiwgMzIuMjUwNDE4MTddLAogICAgICAgICAgICAgICAgeyJmaWxsQ29sb3IiOiAiIzQzZDlkZSIsICJyYWRpdXMiOiA4fQogICAgICAgICAgICApLmFkZFRvKG1hcF84OWQyNTBmZjBjYTc0MmYzOTY2ZGVmZWVlMTI5NGI4Nyk7CiAgICAgICAgCiAgICAKICAgICAgICAgICAgdmFyIG1hcmtlcl84YmM0NTAyYzRlYTI0YTY4ODA3ZDczZGFmZGIyYTRiZCA9IEwubWFya2VyKAogICAgICAgICAgICAgICAgWzIuOTY1OTgyNjg3LCAzMi4yNDk4Njk5Ml0sCiAgICAgICAgICAgICAgICB7ImZpbGxDb2xvciI6ICIjNDNkOWRlIiwgInJhZGl1cyI6IDh9CiAgICAgICAgICAgICkuYWRkVG8obWFwXzg5ZDI1MGZmMGNhNzQyZjM5NjZkZWZlZWUxMjk0Yjg3KTsKICAgICAgICAKICAgIAogICAgICAgICAgICB2YXIgbWFya2VyXzQwMmUyMmUzOWQ5YjRkNWQ4OWRmYTg0YmIwOGU1MDRmID0gTC5tYXJrZXIoCiAgICAgICAgICAgICAgICBbMi45ODA1MTEyOTQsIDMyLjUzMTY4NjA2XSwKICAgICAgICAgICAgICAgIHsiZmlsbENvbG9yIjogIiM0M2Q5ZGUiLCAicmFkaXVzIjogOH0KICAgICAgICAgICAgKS5hZGRUbyhtYXBfODlkMjUwZmYwY2E3NDJmMzk2NmRlZmVlZTEyOTRiODcpOwogICAgICAgIAogICAgCiAgICAgICAgICAgIHZhciBtYXJrZXJfZDBjNGQyYzRhOGQ1NDhjOTgwNDQ2Mzk2ZDUyYjBiYmUgPSBMLm1hcmtlcigKICAgICAgICAgICAgICAgIFsyLjk4MDU5NTMwNjk5OTk5MDQsIDMyLjUzMTcwNDk2XSwKICAgICAgICAgICAgICAgIHsiZmlsbENvbG9yIjogIiM0M2Q5ZGUiLCAicmFkaXVzIjogOH0KICAgICAgICAgICAgKS5hZGRUbyhtYXBfODlkMjUwZmYwY2E3NDJmMzk2NmRlZmVlZTEyOTRiODcpOwogICAgICAgIAogICAgCiAgICAgICAgICAgIHZhciBtYXJrZXJfN2IxZjI5NWNkYzc1NDEyNmJmOTYzNDQxNjVmNzVlYzQgPSBMLm1hcmtlcigKICAgICAgICAgICAgICAgIFsyLjk4MDc2MzIxNiwgMzIuNTMxMzI2ODk5OTk5OV0sCiAgICAgICAgICAgICAgICB7ImZpbGxDb2xvciI6ICIjNDNkOWRlIiwgInJhZGl1cyI6IDh9CiAgICAgICAgICAgICkuYWRkVG8obWFwXzg5ZDI1MGZmMGNhNzQyZjM5NjZkZWZlZWUxMjk0Yjg3KTsKICAgICAgICAKICAgIAogICAgICAgICAgICB2YXIgbWFya2VyXzA4MGEwNGE2MWI4MjQwMDFiNWNkOGE5OTczZjkzYjhkID0gTC5tYXJrZXIoCiAgICAgICAgICAgICAgICBbMi45ODA1MzAxMTUsIDMyLjUzMTI0MDQyXSwKICAgICAgICAgICAgICAgIHsiZmlsbENvbG9yIjogIiM0M2Q5ZGUiLCAicmFkaXVzIjogOH0KICAgICAgICAgICAgKS5hZGRUbyhtYXBfODlkMjUwZmYwY2E3NDJmMzk2NmRlZmVlZTEyOTRiODcpOwogICAgICAgIAogICAgCiAgICAgICAgICAgIHZhciBtYXJrZXJfZDlhMjZlMmE1Zjc4NDExMTljZjRhNzdjOTAwODc4NzcgPSBMLm1hcmtlcigKICAgICAgICAgICAgICAgIFsyLjk4MDUxNTA0OCwgMzIuNTMxNjU2NjNdLAogICAgICAgICAgICAgICAgeyJmaWxsQ29sb3IiOiAiIzQzZDlkZSIsICJyYWRpdXMiOiA4fQogICAgICAgICAgICApLmFkZFRvKG1hcF84OWQyNTBmZjBjYTc0MmYzOTY2ZGVmZWVlMTI5NGI4Nyk7CiAgICAgICAgCiAgICAKICAgICAgICAgICAgdmFyIG1hcmtlcl8wMjk1YTU5MjM1YmY0OGJlOTlhZGNkYjExMTkzOTg0ZiA9IEwubWFya2VyKAogICAgICAgICAgICAgICAgWzIuOTY1MjU0MTE2LCAzMi4yNDk3NTU4MV0sCiAgICAgICAgICAgICAgICB7ImZpbGxDb2xvciI6ICIjNDNkOWRlIiwgInJhZGl1cyI6IDh9CiAgICAgICAgICAgICkuYWRkVG8obWFwXzg5ZDI1MGZmMGNhNzQyZjM5NjZkZWZlZWUxMjk0Yjg3KTsKICAgICAgICAKICAgIAogICAgICAgICAgICB2YXIgbWFya2VyXzAxMTM4NDBmNTA1NDQ0OTVhNWJmM2ZlNjVjM2M1OTc4ID0gTC5tYXJrZXIoCiAgICAgICAgICAgICAgICBbMi45NjUxNzcxNjcsIDMyLjI1MDAxNjc0XSwKICAgICAgICAgICAgICAgIHsiZmlsbENvbG9yIjogIiM0M2Q5ZGUiLCAicmFkaXVzIjogOH0KICAgICAgICAgICAgKS5hZGRUbyhtYXBfODlkMjUwZmYwY2E3NDJmMzk2NmRlZmVlZTEyOTRiODcpOwogICAgICAgIAogICAgCiAgICAgICAgICAgIHZhciBtYXJrZXJfYzBhNGZhYWRlZGQyNDYzZDgyY2M5Njk3YTViN2E1MTAgPSBMLm1hcmtlcigKICAgICAgICAgICAgICAgIFsyLjk2NTEyMTkyNjk5OTk5MDQsIDMyLjI1MDI3Nzc2XSwKICAgICAgICAgICAgICAgIHsiZmlsbENvbG9yIjogIiM0M2Q5ZGUiLCAicmFkaXVzIjogOH0KICAgICAgICAgICAgKS5hZGRUbyhtYXBfODlkMjUwZmYwY2E3NDJmMzk2NmRlZmVlZTEyOTRiODcpOwogICAgICAgIAogICAgCiAgICAgICAgICAgIHZhciBtYXJrZXJfYjZkYTc0MDM4NjgwNGNiZmE4MjczMzMzY2M3NjI4MzggPSBMLm1hcmtlcigKICAgICAgICAgICAgICAgIFsyLjk2NjAwMjcxODk5OTk5MDIsIDMyLjI1MDQxODE3XSwKICAgICAgICAgICAgICAgIHsiZmlsbENvbG9yIjogIiM0M2Q5ZGUiLCAicmFkaXVzIjogOH0KICAgICAgICAgICAgKS5hZGRUbyhtYXBfODlkMjUwZmYwY2E3NDJmMzk2NmRlZmVlZTEyOTRiODcpOwogICAgICAgIAogICAgCiAgICAgICAgICAgIHZhciBtYXJrZXJfMjY0ZjU1Y2RlYWEyNGE2ZjliYjQwMmEzMjBiYjQyNzcgPSBMLm1hcmtlcigKICAgICAgICAgICAgICAgIFsyLjk2NTk4MjY4NywgMzIuMjQ5ODY5OTJdLAogICAgICAgICAgICAgICAgeyJmaWxsQ29sb3IiOiAiIzQzZDlkZSIsICJyYWRpdXMiOiA4fQogICAgICAgICAgICApLmFkZFRvKG1hcF84OWQyNTBmZjBjYTc0MmYzOTY2ZGVmZWVlMTI5NGI4Nyk7CiAgICAgICAgCiAgICAKICAgICAgICAgICAgdmFyIG1hcmtlcl8zNGUwZTNkMjAzOTU0N2YwYjQyNTFmZGFiNjRhZWViNyA9IEwubWFya2VyKAogICAgICAgICAgICAgICAgWzIuOTYxMTMzODkyLCAzMi4yNDA0MjU4NF0sCiAgICAgICAgICAgICAgICB7ImZpbGxDb2xvciI6ICIjNDNkOWRlIiwgInJhZGl1cyI6IDh9CiAgICAgICAgICAgICkuYWRkVG8obWFwXzg5ZDI1MGZmMGNhNzQyZjM5NjZkZWZlZWUxMjk0Yjg3KTsKICAgICAgICAKICAgIAogICAgICAgICAgICB2YXIgbWFya2VyX2JmM2E4YmM5YzdmODRjOWQ5NGUyZjhlYmE0NWFmMzVlID0gTC5tYXJrZXIoCiAgICAgICAgICAgICAgICBbMi45NjEwOTYzMTMsIDMyLjI0MDQwMDgxXSwKICAgICAgICAgICAgICAgIHsiZmlsbENvbG9yIjogIiM0M2Q5ZGUiLCAicmFkaXVzIjogOH0KICAgICAgICAgICAgKS5hZGRUbyhtYXBfODlkMjUwZmYwY2E3NDJmMzk2NmRlZmVlZTEyOTRiODcpOwogICAgICAgIAogICAgCiAgICAgICAgICAgIHZhciBtYXJrZXJfZTczODNiNGRhYjQwNGVkNWJlNTA5Yjk2Njc0MGZkY2YgPSBMLm1hcmtlcigKICAgICAgICAgICAgICAgIFsyLjk2MTA5NjMxMywgMzIuMjQwNDAwODFdLAogICAgICAgICAgICAgICAgeyJmaWxsQ29sb3IiOiAiIzQzZDlkZSIsICJyYWRpdXMiOiA4fQogICAgICAgICAgICApLmFkZFRvKG1hcF84OWQyNTBmZjBjYTc0MmYzOTY2ZGVmZWVlMTI5NGI4Nyk7CiAgICAgICAgCiAgICAKICAgICAgICAgICAgdmFyIG1hcmtlcl9hMjRlZTNmZGUzMDU0MDczODZmZmY3ZTVhYzY0NzdjMCA9IEwubWFya2VyKAogICAgICAgICAgICAgICAgWzIuOTYxMTYyMzAzLCAzMi4yNDAzMTE3Ml0sCiAgICAgICAgICAgICAgICB7ImZpbGxDb2xvciI6ICIjNDNkOWRlIiwgInJhZGl1cyI6IDh9CiAgICAgICAgICAgICkuYWRkVG8obWFwXzg5ZDI1MGZmMGNhNzQyZjM5NjZkZWZlZWUxMjk0Yjg3KTsKICAgICAgICAKICAgIAogICAgICAgICAgICB2YXIgbWFya2VyX2RjMzc4MWEzMWY4NjQzMzQ5MWU1MmEzYjZmYTAzNzk3ID0gTC5tYXJrZXIoCiAgICAgICAgICAgICAgICBbMi45NjA5NTY2MzgwMDAwMDAzLCAzMi4yNDA1MzQ5Ml0sCiAgICAgICAgICAgICAgICB7ImZpbGxDb2xvciI6ICIjNDNkOWRlIiwgInJhZGl1cyI6IDh9CiAgICAgICAgICAgICkuYWRkVG8obWFwXzg5ZDI1MGZmMGNhNzQyZjM5NjZkZWZlZWUxMjk0Yjg3KTsKICAgICAgICAKPC9zY3JpcHQ+ onload=\"this.contentDocument.open();this.contentDocument.write(atob(this.getAttribute('data-html')));this.contentDocument.close();\" allowfullscreen webkitallowfullscreen mozallowfullscreen></iframe></div></div>"
      ],
      "text/plain": [
       "<folium.folium.Map at 0x7fab3dc7a4a8>"
      ]
     },
     "execution_count": 214,
     "metadata": {},
     "output_type": "execute_result"
    }
   ],
   "source": [
    "for coord in df['ef2b90b7ff804894a8413477cdfa0e86']:\n",
    "    f.Marker( location=[ coord[0], coord[1] ], fill_color='#43d9de', radius=8 ).add_to( mapit )\n",
    "mapit"
   ]
  },
  {
   "cell_type": "code",
   "execution_count": 215,
   "id": "stunning-arrow",
   "metadata": {},
   "outputs": [
    {
     "data": {
      "text/html": [
       "<div style=\"width:100%;\"><div style=\"position:relative;width:100%;height:0;padding-bottom:60%;\"><span style=\"color:#565656\">Make this Notebook Trusted to load map: File -> Trust Notebook</span><iframe src=\"about:blank\" style=\"position:absolute;width:100%;height:100%;left:0;top:0;border:none !important;\" data-html=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 onload=\"this.contentDocument.open();this.contentDocument.write(atob(this.getAttribute('data-html')));this.contentDocument.close();\" allowfullscreen webkitallowfullscreen mozallowfullscreen></iframe></div></div>"
      ],
      "text/plain": [
       "<folium.folium.Map at 0x7fab3dc7a4a8>"
      ]
     },
     "execution_count": 215,
     "metadata": {},
     "output_type": "execute_result"
    }
   ],
   "source": [
    "for coord in df['604a8069c5bb4620b7394a7ec5603c18']:\n",
    "    f.Marker( location=[ coord[0], coord[1] ], fill_color='#43d9de', radius=8 ).add_to( mapit )\n",
    "mapit"
   ]
  },
  {
   "cell_type": "code",
   "execution_count": 216,
   "id": "nutritional-microwave",
   "metadata": {},
   "outputs": [
    {
     "data": {
      "text/html": [
       "<div style=\"width:100%;\"><div style=\"position:relative;width:100%;height:0;padding-bottom:60%;\"><span style=\"color:#565656\">Make this Notebook Trusted to load map: File -> Trust Notebook</span><iframe src=\"about:blank\" style=\"position:absolute;width:100%;height:100%;left:0;top:0;border:none !important;\" data-html=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 onload=\"this.contentDocument.open();this.contentDocument.write(atob(this.getAttribute('data-html')));this.contentDocument.close();\" allowfullscreen webkitallowfullscreen mozallowfullscreen></iframe></div></div>"
      ],
      "text/plain": [
       "<folium.folium.Map at 0x7fab3dc7a4a8>"
      ]
     },
     "execution_count": 216,
     "metadata": {},
     "output_type": "execute_result"
    }
   ],
   "source": [
    "for coord in df['9848201f11824ca5a7639aee61152122']:\n",
    "    f.Marker( location=[ coord[0], coord[1] ], fill_color='#43d9de', radius=8 ).add_to( mapit )\n",
    "mapit"
   ]
  },
  {
   "cell_type": "code",
   "execution_count": null,
   "id": "physical-portland",
   "metadata": {},
   "outputs": [],
   "source": []
  }
 ],
 "metadata": {
  "kernelspec": {
   "display_name": "Python 2",
   "language": "python",
   "name": "python2"
  },
  "language_info": {
   "codemirror_mode": {
    "name": "ipython",
    "version": 3
   },
   "file_extension": ".py",
   "mimetype": "text/x-python",
   "name": "python",
   "nbconvert_exporter": "python",
   "pygments_lexer": "ipython3",
   "version": "3.6.9"
  }
 },
 "nbformat": 4,
 "nbformat_minor": 5
}
